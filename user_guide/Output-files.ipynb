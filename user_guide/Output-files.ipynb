{
 "cells": [
  {
   "cell_type": "markdown",
   "metadata": {},
   "source": [
    "# Output files"
   ]
  },
  {
   "cell_type": "markdown",
   "metadata": {},
   "source": [
    "For each successful analysis, DEAGO should produce:\n",
    "\n",
    "* [Configuration file](#Configuration-file) (`deago.config` - [example](lrt_example/deago.config))  \n",
    "  *config file with key/value parameters defining the analysis (only generated when using **`--build_config`**)*    \n",
    "  \n",
    "  \n",
    "* [R log](#R-log-file) (`deago.rlog` - [example](lrt_example/deago.rlog))  \n",
    "  *log of the R output generated when converting the R markdown to HTML*\n",
    "  \n",
    "     \n",
    "* [R Markdown](#R-markdown) (`deago_markdown.Rmd` - [example](lrt_example/deago_markdown.Rmd))  \n",
    "  *R markdown used to run the analysis*\n",
    "  \n",
    "     \n",
    "* [HTML report](#HTML-report) (`deago_markdown.html` - [example](lrt_example/deago_markdown.html))  \n",
    "  *HTML report generated from the R markdown*\n",
    "  \n",
    "  \n",
    "     \n",
    "* [Results directory](#Results directory) (`result_[timestamp]` - [example](lrt_example/result_20180326150237))  \n",
    "  *unique results directory containing images (optional), DE analysis and GO analysis output files*"
   ]
  },
  {
   "cell_type": "markdown",
   "metadata": {},
   "source": [
    "***"
   ]
  },
  {
   "cell_type": "markdown",
   "metadata": {},
   "source": [
    "## Configuration file\n",
    "\n",
    "DEAGO analyses produce a config file (**`deago.config`**) containing tab-delimited key/value pairs to define the parameters for each analysis. \n",
    "\n",
    "For a featurecounts QC it will look something like this:"
   ]
  },
  {
   "cell_type": "markdown",
   "metadata": {},
   "source": [
    "    count_column\t7\n",
    "    count_delim\t\\t\n",
    "    count_type\tfeaturecounts\n",
    "    counts_directory\t/path/to/counts\n",
    "    gene_ids\tGeneid\n",
    "    go_analysis\t0\n",
    "    go_levels\tall\n",
    "    keep_images\t0\n",
    "    qc_only\t1\n",
    "    qvalue\t0.05\n",
    "    results_directory\t/path/to/qc_results\n",
    "    skip_lines\t1\n",
    "    targets_file\t/path/to/targets.txt"
   ]
  },
  {
   "cell_type": "markdown",
   "metadata": {},
   "source": [
    "DEAGO generates this file when the **`--build_config`** option is used and it is built using the command line parameters you provide:"
   ]
  },
  {
   "cell_type": "code",
   "execution_count": null,
   "metadata": {
    "collapsed": true
   },
   "outputs": [],
   "source": [
    "    deago --build_config -c data/counts -t data/targets.txt"
   ]
  },
  {
   "cell_type": "markdown",
   "metadata": {},
   "source": [
    "Config files are useful for debugging or if you want to re-run an analysis:"
   ]
  },
  {
   "cell_type": "code",
   "execution_count": null,
   "metadata": {
    "collapsed": true
   },
   "outputs": [],
   "source": [
    "    deago --config deago.config"
   ]
  },
  {
   "cell_type": "markdown",
   "metadata": {},
   "source": [
    "***"
   ]
  },
  {
   "cell_type": "markdown",
   "metadata": {},
   "source": [
    "## R log file\n",
    "\n",
    "DEAGO produces a log file (**`deago.rlog`**) which contains the R output generated when converting the R markdown (**`deago_markdown.Rmd`**) into the HTML report (**`deago_markdown.html`**).\n",
    "\n",
    "The R log file is the first place to look if the analysis didn't generate a HTML report and didn't show any command line errors. \n",
    "\n",
    "For example:"
   ]
  },
  {
   "cell_type": "markdown",
   "metadata": {},
   "source": [
    "    Quitting from lines 206-208 (deago_markdown.Rmd) \n",
    "    Error in .local(.Object, ...) : allGenes must be a factor with 2 levels\n",
    "    Calls: <Anonymous> ... prepareGOdata -> new -> initialize -> initialize -> .local\n",
    "    In addition: Warning messages:\n",
    "    1: Removed 778 rows containing non-finite values (stat_density). \n",
    "    2: Removed 778 rows containing non-finite values (stat_density). \n",
    "    \n",
    "    Execution halted"
   ]
  },
  {
   "cell_type": "markdown",
   "metadata": {},
   "source": [
    "***"
   ]
  },
  {
   "cell_type": "markdown",
   "metadata": {},
   "source": [
    "## R markdown\n",
    "\n",
    "DEAGO uses markdown templates from [Bio-Deago](https://github.com/sanger-pathogens/Bio-Deago/tree/master/markdown_templates) to generate an R markdown file (**`deago_markdown.Rmd`**) which is then used to run the analysis. \n",
    "\n",
    "The R markdown file allows you to modify the analysis if you need to (e.g. if there is a batch effect). You can then generate a new HTML report from the modified markdown file. See [Bespoke analyses](Bespoke-analyses.ipynb) for more information.\n",
    "\n",
    "Here is an example of a section from **`deago_markdown.Rmd`** which is used to generate a contrast summary table:\n"
   ]
  },
  {
   "cell_type": "markdown",
   "metadata": {},
   "source": [
    "    ...\n",
    "    \n",
    "    The summary table below contains the total number of differentially expressed genes and the number of up-regulated\n",
    "    (lfc > 2) and down-regulated (lfc < -2) genes for each contrast (adjusted p-value < 0.05).\n",
    "    \n",
    "    ```{r contrasts, echo=TRUE}\n",
    "    contrasts <- getContrasts(dds, parameters)\n",
    "    writeContrasts(dds, contrasts, resultsDir)\n",
    "    ```\n",
    "     \n",
    "    ```{r contrast_summary, echo=TRUE}\n",
    "    contrast_summary <- contrastSummary(contrasts, parameters)\n",
    "    datatable(contrast_summary, options = list(dom = 't', colnames=c('contrast', 'up-regulated','down-\n",
    "    regulated','total'), columnDefs = list(list(className = 'dt-center', targets = 1:ncol(contrast_summary)))))\n",
    "    ```\n",
    "    \n",
    "    ...\n"
   ]
  },
  {
   "cell_type": "markdown",
   "metadata": {},
   "source": [
    "Click [here](https://rmarkdown.rstudio.com/) for more information on R markdown files and their format."
   ]
  },
  {
   "cell_type": "markdown",
   "metadata": {},
   "source": [
    "***"
   ]
  },
  {
   "cell_type": "markdown",
   "metadata": {},
   "source": [
    "## HTML report\n",
    "\n",
    "By default, the HTML analysis report generated by DEAGO will be written to **`deago_markdown.html`**.\n",
    "\n",
    "All DEAGO reports will contain the following sections:\n",
    "\n",
    "* **`Introduction`** - an overview of the report\n",
    "* **`Pipeline configuration`** - contents of the configuration file used (**`deago.config`**)\n",
    "* **`Imported data summary`** - contents of the sample/condition mapping (targets) file\n",
    "* **`DESeq2 analysis`** - commands used to set up the DESeq2 object and analysis\n",
    "* **`QC plots`** - subsections for each QC type generated (e.g. Total read counts per sample, Principal component analysis (PCA)...)\n",
    "* **`R session`** - summary of R packages used and their versions (useful for debugging)\n",
    "\n",
    "There is a panel on the left which allows you to conveniently skip to each section of the report.\n",
    "\n",
    "![DEAGO navigation panel](images/deago_navigation.png)\n"
   ]
  },
  {
   "cell_type": "markdown",
   "metadata": {},
   "source": [
    "### DE analyses only\n",
    "\n",
    "Differential expression analyses will generate an extra section called **`Pairwise contrasts`**. This section will have a summary of the number of up-regulated and down-regulated genes per contrast.\n",
    "\n",
    "![DE summary](images/DEsummary.png)\n",
    "\n",
    "When there are 2-4 contrasts, a Venn diagram will be generated showing the overlap of DE genes between contrasts. \n",
    "\n",
    "![DE Venn](images/DEvenn.png)\n",
    "\n",
    "The **`Pairwise contrasts`** section will contain several subsections, one per contrast. Each contrast subsection contains an MA and volcano plot. The top 5 up- and down-regulated genes are labelled. By default the labels are the gene identifier but, if an annotation file with gene symbols is used, the labels will be the gene symbols instead.\n",
    "\n",
    "![DE MA and volcano plots](images/DEvolcanoMA.png)\n",
    "\n",
    "All analysis results tables in the DEAGO reports are interactive. For each contrast there will be a results table for differentially expressed genes which can be searched or filtered.  \n",
    "\n",
    "![DE table](images/DEtable.png)\n",
    "\n",
    "The DE table is restricted by an FDR cutoff (q < 0.01) and a log2 fold change threshold (>= 2  or >= 2) to keep the report compact. For the full, unfiltered results tables you should look at the contrast files which are written to the results directory.\n",
    "\n",
    "In this example, the gene identifier is blue. This indicates that the identifier is from Ensembl and if clicked will open a new tab in the web browser which is the latest Ensembl page for that stable gene ID. An annotation has been included with this analysis, so you will see a **`symbol`** column which contains the gene symbol(s) associated with each gene.\n",
    "\n",
    "To search the whole table, use the search box at the top right.\n",
    "\n",
    "![DE search](images/DEsearch.png)\n",
    "\n",
    "To search or filter an individual column, use the search/filter box at the top of the column. The table can also be ordered by clicking on the column headers.\n",
    "\n",
    "![DE filter](images/DEfilter.png)"
   ]
  },
  {
   "cell_type": "markdown",
   "metadata": {},
   "source": [
    "### GO term enrichment analyses only\n",
    "\n",
    "GO term enrichment analysis reports include all of the sections already mentioned. In addition, the GO analyses generate subsections in the `Pairwise contrasts` containing the GO term enrichment results tables. \n",
    "\n",
    "Interactive tables will be generated for both biological processes (BP) and molecular functions (MF). In addition to the BP and MF tables for GO analyses of all DE genes, there are also individual tables for up-regulated and down-regulated genes for both BP and MF.\n",
    "\n",
    "Here is an example of a GO results table:\n",
    "\n",
    "![GO results table](images/BPupTable.png)\n",
    "\n",
    "Where gene symbols are included in the annotation, DEAGO will include the DE genes associated with each GO term in the `symbol` column.\n",
    "\n",
    "![GO results table symbols](images/BPupPrdm1Right.png)"
   ]
  },
  {
   "cell_type": "markdown",
   "metadata": {},
   "source": [
    "***"
   ]
  },
  {
   "cell_type": "markdown",
   "metadata": {},
   "source": [
    "## Results directory\n",
    "\n",
    "For each new analysis, DEAGO creates a timestamped results directory (e.g. result_20180314093805). \n",
    "\n",
    "### Images\n",
    "\n",
    "When the **`--keep_images`** option is used, DEAGO will create a folder called **`images`** in the timestamped results directory. The better quality QC or DE plots can be found in this images folder.\n",
    "\n",
    "### DE contrast results tables\n",
    "\n",
    "If a DE analysis was performed, DEAGO will write the DESeq2 contrast results tables (one file per contrast) to the timestamped results directory.\n",
    "\n",
    "The files are named **`[contrast]_q[alpha].txt`** where **`alpha`** is the FDR cutoff that was set at the start of the analysis.\n",
    "\n",
    "Here is an example of a contrast DE results file:\n",
    "\n",
    "| geneID | symbol | ko_ctrl_1.1 | ko_ctrl_1.2 | ... | wt_il22_4.1 | wt_il22_4.2 | baseMean | log2FoldChange | lfcSE |  stat | pvalue | padj |\n",
    "| --- | :-: | :-: | :-: | :-: | :-: | :-: | :-: | :-: | :-: | :-: | :-: | :-: |  \n",
    "| ENSMUSG00000000001 | Gnai3 |  10999.217 | 11064.515 | ... | 13783.985 | 14419.202 | 11898.0777 | 0.150 |  0.059 | 2.520 | 0.011 | 0.031 |\n",
    "| ENSMUSG00000000003 | Pbsn | 0 | 0 | ... | 0 | 0 | 0 | NA | NA | NA | NA | NA |\n",
    "| ENSMUSG00000000028 | Cdc45 |  228.360 | 260.280 | ... | 81.607 | 89.288 | 175.293 | -0.037 | 0.186 |  -0.198 | 0.842 |  0.901|\n",
    "\n",
    "The first column will be the gene identifier and the second will be the gene symbol if an annotation file was used in the analysis. The next columns are the DESeq2 normalised counts for each sample. Finally, there are the DESeq2 contrast results columns: baseMean, log2FoldChange, lfcSE, stat, pvalue, padj.  \n",
    "\n",
    "The DE results files are not filtered and contain the results for all of the genes.\n",
    "\n",
    "### GO term enrichment results tables\n",
    "\n",
    "If a GO term enrichment analysis was performed, GO tables will be written to the timestamped results directory. \n",
    "\n",
    "Results files will be generated for each contrast **`BP`** and **`MF`** analysis performed using all of the identified DE genes. Additional files will also be produced for the separate GO analyses performed using the up-regulated and down-regulated genes.\n",
    "\n",
    "| Filename               | GO level | Type of analysis          |\n",
    "| ---------------------- | :------: | :-----------------------: |\n",
    "| [contrast]_BP.tsv      | BP       | all DE genes              |\n",
    "| [contrast]_BP_up.tsv   | BP       | up-regulated genes only   |\n",
    "| [contrast]_BP_down.tsv | BP       | down-regulated genes only |  \n",
    "| [contrast]_MF.tsv      | MF       | all DE genes              |\n",
    "| [contrast]_MF_up.tsv   | MF       | up-regulated genes only   |\n",
    "| [contrast]_MF_down.tsv | MF       | down-regulated genes only |  \n",
    "\n",
    "\n",
    "Each GO results table report only the **top 30** significantly enriched GO terms. A example of the contents of a  GO results file would be: \n",
    "\n",
    "\n",
    "| GO.ID | Term | Annotated | Significant | Expected | Rank in classic Fisher | classic Fisher | elim Fisher | weight01 Fisher | identifiers | symbol | \n",
    "| --- | :-: | :-: | :-: | :-: | :-: | :-: | :-: | :-: | --- | --- |\n",
    "| GO:0050662 | coenzyme binding | 241 | 53 | 38.21 | 62 | 0.00726 | 0.10007 | 0.01254 | ENSMUSG00000000214, ENSMUSG00000000399, ENSMUSG00000000811, ... | Acad8, Acadm, Acbd4, ... |\n",
    "| GO:0008047 | enzyme activator activity | 267 | 53 | 42.33 | 132 | 0.04623 | 0.04623 | 0.01425 | ENSMUSG00000000049, ENSMUSG00000000296, ENSMUSG00000000489, ... | Abr, Acrbp, Ahsa2, ... |\n",
    "| GO:0022829 | wide pore channel activity | 18 | 7 | 2.85 | 83 | 0.01585 | 0.01585 | 0.01473 | ENSMUSG00000002984, ENSMUSG00000005674, ENSMUSG00000008892, ... | Aqp11, Gjb1, Gjb2, ... |\n",
    "\n",
    "If gene symbols were provided in the annotation file, the symbols (and identifiers) associated with the GO terms will be reported in the last two columns.\n",
    "\n",
    "[Return to the index](index.ipynb)  \n",
    "Previous: [Input files](Input-files.ipynb)  \n",
    "Next: [Preparing an annotation file](Preparing-an-annotation-file.ipynb)"
   ]
  }
 ],
 "metadata": {
  "anaconda-cloud": {},
  "kernelspec": {
   "display_name": "Bash",
   "language": "bash",
   "name": "bash"
  },
  "language_info": {
   "codemirror_mode": "shell",
   "file_extension": ".sh",
   "mimetype": "text/x-sh",
   "name": "bash"
  }
 },
 "nbformat": 4,
 "nbformat_minor": 1
}
