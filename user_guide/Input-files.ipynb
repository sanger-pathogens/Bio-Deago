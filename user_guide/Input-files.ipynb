{
 "cells": [
  {
   "cell_type": "markdown",
   "metadata": {},
   "source": [
    "# Input files"
   ]
  },
  {
   "cell_type": "markdown",
   "metadata": {},
   "source": [
    "DEAGO requires the following for all analyses:\n",
    "\n",
    "* [Count data directory](#Count-data-directory) (*[example](data/counts)*)   \n",
    " *directory containing count files (one per sample)*\n",
    " \n",
    "  \n",
    "\n",
    "* [Targets file](#Targets-file) (*[example](data/targets.txt)*)     \n",
    "  _sample (filename) to experimental condition mappings_  \n",
    "\n",
    "If you want to perform GO enrichment analyses or show gene symbols, you will also need:\n",
    "\n",
    "* [Annotation file](#Annotation-file) (*[example](data/ensembl_mm10_deago_formatted.tsv)*)      \n",
    "  _required for gene name annotation and GO term enrichment analysis_ \n",
    "  \n",
    "For bespoke analyses you will also need to pre-generate a config file and use this as an input for some of the component scripts.  \n",
    "\n",
    "* [Configuration file](#Configuration-file) (*[example](lrt_example/deago.config)*)  \n",
    "  _key/value parameters required for repeated or bespoke analyses_ "
   ]
  },
  {
   "cell_type": "markdown",
   "metadata": {},
   "source": [
    "***"
   ]
  },
  {
   "cell_type": "markdown",
   "metadata": {},
   "source": [
    "## Count data directory\n",
    "\n",
    "DEAGO looks in a single folder for all of your count data, one file per sample. You will need to tell DEAGO the location or path for this folder.\n",
    "\n",
    "To work with different types of expression count files, DEAGO uses several command line options:\n",
    "\n",
    "| Command line option | Description                                          |\n",
    "| :------------------ | :--------------------------------------------------- |\n",
    "| --count_type        | type of count file [_expression_ or _featurecounts_] |\n",
    "| --count_column      | number of column containing count values             |\n",
    "| --skip_lines        | number of lines to skip in count file                |\n",
    "| --count_delim       | count file delimiter                                 |\n",
    "| --gene_ids          | name of column containing gene identifiers           |\n",
    "\n",
    "You don't always need to use these options. By default, DEAGO assumes the following:\n",
    "\n",
    "* `--count_column 5`\n",
    "* `--skip_lines 0`\n",
    "* `--gene_ids 'GeneID'`\n",
    "* `--count_delim \",\"`\n",
    "\n",
    "These are the parameters for the expression count files which are produced for all organisms processed by the Sanger pathogens RNA-Seq expression pipeline.\n",
    "\n",
    "And example of a default expression count file would be:"
   ]
  },
  {
   "cell_type": "markdown",
   "metadata": {},
   "source": [
    "    \"Seq ID\",GeneID,\"Locus Tag\",\"Feature Type\",\"Total Reads Mapping\",\"Total RPKM (Reads Mapped)\",\n",
    "    \"Total Reads Mapping (Reads Mapped to Gene Models)\",\"Total RPKM (Reads Mapped to Gene Models)\",\n",
    "    \"Sense Reads Mapping\",\"Sense RPKM (Reads Mapped)\",\"Sense RPKM (Reads Mapped to Gene Models)\",\n",
    "    \"Antisense Reads Mapping\",\"Antisense RPKM (Reads Mapped)\",\"Antisense RPKM (Reads Mapped to Gene Models)\"\n",
    "    1,ENSG00000266468,,,0,0,0,0,0,,,0,,\n",
    "    1,ENSG00000228682,,,0,0,0,0,0,,,0,,\n",
    "    1,ENSG00000202027,,,0,0,0,0,0,,,0,,\n",
    "    1,ENSG00000235777,,,0,0,0,0,0,,,0,,\n",
    "    1,ENSG00000230718,,,0,0,0,0,0,,,0,,"
   ]
  },
  {
   "cell_type": "markdown",
   "metadata": {},
   "source": [
    "Gene identifiers are in the second column `GeneID` (e.g. ENSG00000266468) and the gene counts are in the fifth column (`column 5`). The first line is the header (i.e. no lines to skip) and the fields are comma-delimited (,).\n",
    "\n",
    "There is also a preset for featureCounts files `--count_type featurecounts` which assumes:\n",
    "\t\n",
    "* `--count_column 7`\n",
    "* `--skip_lines 1`\n",
    "* `--gene_ids 'Geneid'`\n",
    "* `--count_delim \"\\t\"`\t\t\t\t\t\t\t\t\t\t\t\n",
    "\n",
    "Gene identifiers are in the first column `Geneid` (e.g. ENSMUSG00000090025) and the gene counts are in the last column (`column 7`). The first line is a comment which gives the details of the program and command used to generate the count file and the fields are tab-delimited (\\t)."
   ]
  },
  {
   "cell_type": "markdown",
   "metadata": {},
   "source": [
    "    # Program:featureCounts v1.4.5-p1; Command:\"featureCounts\" \"-O\" \"-T\" \"1\" \"-t\" \"exon\" \"-g\" \"gene_id\" \"-a\"\n",
    "    \"/lustre/scratch118/infgen/pathogen/pathpipe/refs/Mus/musculus/Mus_musculus_mm10.gtf\" \"-o\"\n",
    "    \"390176.pe.markdup.bam.featurecounts.csv\" \"390176.pe.markdup.bam\"\n",
    "    Geneid  Chr     Start   End     Strand  Length  390176.pe.markdup.bam\n",
    "    ENSMUSG00000090025      1       3054233 3054733 +       501     0\n",
    "    ENSMUSG00000064842      1       3102016 3102125 +       110     0"
   ]
  },
  {
   "cell_type": "markdown",
   "metadata": {},
   "source": [
    "You can also use other count file formats with DEAGO as long as you configure the options in the table above accordingly."
   ]
  },
  {
   "cell_type": "markdown",
   "metadata": {},
   "source": [
    "***"
   ]
  },
  {
   "cell_type": "markdown",
   "metadata": {},
   "source": [
    "## Targets file\n",
    "\n",
    "DEAGO also requires a targets file which tells it the counts file associated with each sample and the experimental conditions which were applied.\n",
    "\n",
    "Each row corresponds to a sample and there are three required columns:\n",
    "\n",
    "* `filename`\n",
    "  _name of the sample count file in the counts directory_\n",
    "* `condition`\n",
    "  _experimental condition that was applied_\n",
    "* `replicate`\n",
    "  _number or phrase representing a replicate group_\n",
    "\n",
    "Let's take a look at an example targets file:"
   ]
  },
  {
   "cell_type": "markdown",
   "metadata": {},
   "source": [
    "    condition\tcell_type\ttreatment\treplicate\tfilename\n",
    "    WT_Ctrl\tWT\tCtrl\t2.1\t8380_3#1.390176.pe.markdup.bam.featurecounts.csv\n",
    "    WT_Ctrl\tWT\tCtrl\t2.2\t8380_3#2.390269.pe.markdup.bam.featurecounts.csv\n",
    "    WT_IL22\tWT\tIL22\t2.2\t8380_3#4.389017.pe.markdup.bam.featurecounts.csv"
   ]
  },
  {
   "cell_type": "markdown",
   "metadata": {},
   "source": [
    "Notice that in addition to the three expected columns we also have `cell_type` and `treatment`. That's because this example dataset had two factors, cell type (`WT`/`KO`) and treatment (`Ctrl`/`IL22`). \n",
    "\n",
    "Currently, DEAGO can only perform single factor analyses. So, we concatenate the cell type and treatment values in the `condition` column (e.g. `WT_Ctrl`). See [Bespoke analyses](Bespoke-analyses.ipynb) for how to adapt the DEAGO output for multi-factor analyses.\n",
    "\n",
    "In this dataset we also had 4 biological replicates and 2 technical replicates for each condition. This is represented in the `replicate` column e.g. replicate `1.2` is biological replicate 1 and technical replicate 2."
   ]
  },
  {
   "cell_type": "markdown",
   "metadata": {},
   "source": [
    "***"
   ]
  },
  {
   "cell_type": "markdown",
   "metadata": {},
   "source": [
    "## Annotation file\n",
    "\n",
    "An annotation file is required if you want to include gene symbols in the results tables or if you want to perform GO term enrichment analyses with DEAGO. The annotation file maps the gene identifiers with gene symbols and/or GO terms.\n",
    "\n",
    "Let's take a look at an example of a DEAGO-formatted annotation file:"
   ]
  },
  {
   "cell_type": "markdown",
   "metadata": {},
   "source": [
    "    ENSMUSG00000000001\tGnai3\tGO:0000166;GO:0003924;GO:0004871;GO:0005515;GO:0005525;GO:0005624;GO:0005737;GO:0005794;GO:0005813;GO:0005834;GO:0005856;GO:0005886;GO:0006184;GO:0006906;GO:0007049;GO:0007186;GO:0019001;GO:0030496;GO:0031821;GO:0042588;GO:0045121;GO:0046872;GO:0050805;GO:0051301\n",
    "    ENSMUSG00000000003\tPbsn\tGO:0005215;GO:0005488;GO:0005549;GO:0005576\n",
    "    ENSMUSG00000000028\tCdc45\tGO:0005634;GO:0005813;GO:0006260;GO:0006270;GO:0007049\n",
    "    ENSMUSG00000000037\tScml2\tGO:0005634;GO:0006355;GO:0031519\n",
    "    ENSMUSG00000000049\tApoh\tGO:0001937;GO:0001948;GO:0005515;GO:0005543;GO:0005576;GO:0005615;GO:0006641;GO:0007596;GO:0007597;GO:0008201;GO:0008289;GO:0009986;GO:0010596;GO:0016525;GO:0030193;GO:0030195;GO:0031012;GO:0031100;GO:0031639;GO:0033033;GO:0034197;GO:0034361;GO:0034364;GO:0034392;GO:0042627;GO:0043499;GO:0051006;GO:0051917;GO:0051918;GO:0060230;"
   ]
  },
  {
   "cell_type": "markdown",
   "metadata": {},
   "source": [
    "There is one row per gene.  However, not all genes need to be accounted for in the annotation file. The annotation file must contain at least 2 columns. The first column should always contain the gene identifiers (`Geneid` column in featurecounts files). The second and/or third column should contain the gene symbols or GO terms associated with the gene. If there are multiple genes or GO terms associated with a gene they should be concatenated (joined together) with semi-colons (e.g. GO:0005634;GO:0006355;GO:0031519).\n",
    "\n",
    "For more information on preparing an annotation file for DEAGO (i.e. from Ensembl BioMart output) see [Preparing an annotation file](Preparing-an-annotation-file.ipynb)."
   ]
  },
  {
   "cell_type": "markdown",
   "metadata": {},
   "source": [
    "***"
   ]
  },
  {
   "cell_type": "markdown",
   "metadata": {},
   "source": [
    "## Configuration file"
   ]
  },
  {
   "cell_type": "markdown",
   "metadata": {},
   "source": [
    "DEAGO uses a config file containing tab-delimited key/value pairs to define the parameters for each analysis. \n",
    "\n",
    "For a featurecounts QC it will look something like this:"
   ]
  },
  {
   "cell_type": "markdown",
   "metadata": {},
   "source": [
    "    count_column\t7\n",
    "    count_delim\t\\t\n",
    "    count_type\tfeaturecounts\n",
    "    counts_directory\t/path/to/counts\n",
    "    gene_ids\tGeneid\n",
    "    go_analysis\t0\n",
    "    go_levels\tall\n",
    "    keep_images\t0\n",
    "    qc_only\t1\n",
    "    qvalue\t0.05\n",
    "    results_directory\t/path/to/qc_results\n",
    "    skip_lines\t1\n",
    "    targets_file\t/path/to/targets.txt"
   ]
  },
  {
   "cell_type": "markdown",
   "metadata": {},
   "source": [
    "We can ask DEAGO to generate this file using the `--build_config` options:"
   ]
  },
  {
   "cell_type": "code",
   "execution_count": null,
   "metadata": {
    "collapsed": false
   },
   "outputs": [],
   "source": [
    "    deago --build_config -c data/counts -t data/targets.txt"
   ]
  },
  {
   "cell_type": "markdown",
   "metadata": {},
   "source": [
    "This will generate a file called `deago.config` as part of the analysis which is built using the command line parameters you provide and will look similar to the content above.\n",
    "\n",
    "We can also use an existing config file if we want to re-run an analysis:"
   ]
  },
  {
   "cell_type": "code",
   "execution_count": null,
   "metadata": {
    "collapsed": false
   },
   "outputs": [],
   "source": [
    "    deago --config deago.config"
   ]
  },
  {
   "cell_type": "markdown",
   "metadata": {},
   "source": [
    "DEAGO can also be run in stages (e.g. `build_deago_config`, `build_deago_markdown`, `deago_markdown_to_html`) if you want to do a bespoke analysis. See [Bespoke analyses](Bespoke-analyses.ipynb) for more information.\n",
    "\n",
    "[Return to the index](index.ipynb)  \n",
    "Next: [Output files](Output-files.ipynb)"
   ]
  }
 ],
 "metadata": {
  "anaconda-cloud": {},
  "kernelspec": {
   "display_name": "Bash",
   "language": "bash",
   "name": "bash"
  },
  "language_info": {
   "codemirror_mode": "shell",
   "file_extension": ".sh",
   "mimetype": "text/x-sh",
   "name": "bash"
  }
 },
 "nbformat": 4,
 "nbformat_minor": 1
}
