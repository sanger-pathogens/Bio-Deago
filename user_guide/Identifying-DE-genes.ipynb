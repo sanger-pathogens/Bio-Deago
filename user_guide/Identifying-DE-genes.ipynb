{
 "cells": [
  {
   "cell_type": "markdown",
   "metadata": {},
   "source": [
    "# Identifying differentially expressed (DE) genes "
   ]
  },
  {
   "cell_type": "markdown",
   "metadata": {},
   "source": [
    "DEAGO uses [DESeq2](https://bioconductor.org/packages/release/bioc/html/DESeq2.html) to identify differentially expressed genes.  For more information on DESeq2 methods and workflows go to the [DESeq2 vignette](https://bioconductor.org/packages/release/bioc/vignettes/DESeq2/inst/doc/DESeq2.html).\n",
    "\n",
    "Remember, each DEAGO analysis should be self-contained (i.e. in a new folder):"
   ]
  },
  {
   "cell_type": "code",
   "execution_count": null,
   "metadata": {
    "collapsed": false
   },
   "outputs": [],
   "source": [
    "    mkdir de_analysis && cd de_analysis"
   ]
  },
  {
   "cell_type": "markdown",
   "metadata": {},
   "source": [
    "***"
   ]
  },
  {
   "cell_type": "markdown",
   "metadata": {},
   "source": [
    "## Running a default DE analysis"
   ]
  },
  {
   "cell_type": "code",
   "execution_count": null,
   "metadata": {
    "collapsed": false
   },
   "outputs": [],
   "source": [
    "    deago --build_config -c ../data/counts \\\n",
    "                         -t ../data/targets.txt"
   ]
  },
  {
   "cell_type": "markdown",
   "metadata": {},
   "source": [
    "This will run a QC analysis and a DE analysis with the default settings, making several assumptions.\n",
    "\n",
    "* That you're using the expression count format which is the output of the Sanger pathogen pipelines (see [Input files](Input-files.ipynb)).  \n",
    "\n",
    "\n",
    "* That your control condition is the one that comes first when alphabetically sorted. This is because, by default, R chooses the control condition based on alphabetical order. For example, if you have three conditions: _controlTreatment_, _badTreatment_, _worseTreatment_, it will assume that the control condition is _badTreatment_ because it is first alphabetically.  \n",
    "\n",
    "\n",
    "* That the adjusted p value FDR cutoff (**`alpha`**) you want to use is 0.05.\n",
    "\n",
    "To define the control condition and FDR cutoff in DEAGO see [Using different DE analysis parameters](#Using-different-DE-analysis-parameters) or for more information on what these mean, go to the [DESeq2 vignette](https://bioconductor.org/packages/release/bioc/vignettes/DESeq2/inst/doc/DESeq2.html)."
   ]
  },
  {
   "cell_type": "markdown",
   "metadata": {},
   "source": [
    "### Results\n",
    "\n",
    "All being well, the DEAGO should generate an analysis report: **`deago_markdown.html`**.  If not, you will need to look into any errors or warnings in the log file (**`deago.rlog`**) or try running the commands from the R markdown file (**`deago_markdown.Rmd`**) in R to debug the issue.\n",
    "\n",
    "In your results directory, you should also see a series of DE analysis results files, one per contrast (e.g. [contrast]_q[alpha].txt), which contain the **unfiltered** DESeq2 results (i.e. all genes are listed).  The alpha (q) reference in the filename is just a reminder of the FDR cutoff you set at the start of the analysis. \n",
    "\n",
    "For more information on the output files and what they contain see [Output files](Output-files.ipynb)."
   ]
  },
  {
   "cell_type": "markdown",
   "metadata": {},
   "source": [
    "***"
   ]
  },
  {
   "cell_type": "markdown",
   "metadata": {},
   "source": [
    "## Using different DE analysis parameters\n",
    "\n",
    "You may want to set a different FDR cutoff, control condition or count data type. Here is an example command:"
   ]
  },
  {
   "cell_type": "code",
   "execution_count": null,
   "metadata": {
    "collapsed": true
   },
   "outputs": [],
   "source": [
    "    deago --build_config -c ../data/counts \\\n",
    "                         -t ../data/targets.txt \\\n",
    "                         --count_type featurecounts \\\n",
    "                         --control Ctrl \\\n",
    "                         -q 0.01 "
   ]
  },
  {
   "cell_type": "markdown",
   "metadata": {},
   "source": [
    "* **`--control`** tells DEAGO the condition you want to use as your reference or control (e.g. Ctrl). The value **must** be present in the condition column in your targets files\n",
    "\n",
    "\n",
    "* **`-q`** tells DEAGO the FDR cutoff to use in the analysis (e.g. 0.01)\n",
    "\n",
    "\n",
    "* **`--count_type`** tells DEAGO the format of the count data (e.g. featurecounts) setting the values for **--count_column**, **--skip_lines**, **--gene_ids**, **--count_delim**\n",
    "\n",
    "As with your [QC analysis](Quality-control.ipynb), you can also use the **`--keep_images`** option to generate better quality versions of the DE plots (e.g. MA plots, volcano plots, venn diagrams...)."
   ]
  },
  {
   "cell_type": "markdown",
   "metadata": {},
   "source": [
    "***"
   ]
  },
  {
   "cell_type": "markdown",
   "metadata": {},
   "source": [
    "## Including gene symbols\n",
    "\n",
    "By default, DEAGO includes the gene identifiers in the counts file in the DE analysis results tables. However, it can sometimes be more useful to see the gene names which may be much more recognisable. To do this, we need an annotation file (see [Input files](Input-files.ipynb) and [Preparing an annotation file](Preparing-an-annotation-file.ipynb)).\n",
    "\n",
    "To use an annotation with your DE analysis use the **`-a`** option:"
   ]
  },
  {
   "cell_type": "code",
   "execution_count": null,
   "metadata": {
    "collapsed": true
   },
   "outputs": [],
   "source": [
    "    deago --build_config -c ../data/counts \\\n",
    "                         -t ../data/targets.txt \\\n",
    "                         -a ../data/ensembl_mm10_deago_formatted.tsv"
   ]
  },
  {
   "cell_type": "markdown",
   "metadata": {},
   "source": [
    "For more information on the differences you'll see in your output when you include annotations see [Output files](Output-files.ipynb).\n",
    "  \n",
    "[Return to the index](index.ipynb)  \n",
    "Previous: [Quality control](Quality-control.ipynb)  \n",
    "Next: [GO term enrichment](GO-term-enrichment.ipynb)"
   ]
  }
 ],
 "metadata": {
  "anaconda-cloud": {},
  "kernelspec": {
   "display_name": "Bash",
   "language": "bash",
   "name": "bash"
  },
  "language_info": {
   "codemirror_mode": "shell",
   "file_extension": ".sh",
   "mimetype": "text/x-sh",
   "name": "bash"
  }
 },
 "nbformat": 4,
 "nbformat_minor": 1
}
