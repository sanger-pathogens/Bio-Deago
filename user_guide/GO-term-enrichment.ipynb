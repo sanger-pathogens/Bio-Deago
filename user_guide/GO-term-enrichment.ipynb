{
 "cells": [
  {
   "cell_type": "markdown",
   "metadata": {},
   "source": [
    "# GO term enrichment"
   ]
  },
  {
   "cell_type": "markdown",
   "metadata": {},
   "source": [
    "DEAGO uses [topGO](https://bioconductor.org/packages/release/bioc/html/topGO.html) to identify significantly enriched GO terms.  For more information on the topGO methods and workflows go to the [topGO vignette](https://bioconductor.org/packages/release/bioc/vignettes/topGO/inst/doc/topGO.pdf). \n",
    "\n",
    "Remember, each DEAGO analysis should be self-contained (i.e. in a new folder):"
   ]
  },
  {
   "cell_type": "code",
   "execution_count": null,
   "metadata": {
    "collapsed": true
   },
   "outputs": [],
   "source": [
    "    mkdir go_analysis && cd go_analysis"
   ]
  },
  {
   "cell_type": "markdown",
   "metadata": {},
   "source": [
    "***"
   ]
  },
  {
   "cell_type": "markdown",
   "metadata": {},
   "source": [
    "## Running a default GO analysis"
   ]
  },
  {
   "cell_type": "code",
   "execution_count": null,
   "metadata": {
    "collapsed": true
   },
   "outputs": [],
   "source": [
    "    deago --build_config -c ../data/counts \\\n",
    "                         -t ../data/targets.txt \\\n",
    "                         -a ../data/ensembl_mm10_deago_formatted.tsv \\\n",
    "                         --go"
   ]
  },
  {
   "cell_type": "markdown",
   "metadata": {},
   "source": [
    "This will run a QC analysis, a DE analysis and a GO term enrichment analysis with the default settings, making several assumptions.\n",
    "\n",
    "* That you're using the expression count format which is the output of the Sanger pathogen pipelines (see [Input files](Input-files.ipynb)).   \n",
    "\n",
    "\n",
    "* That your control condition is the one that comes first when alphabetically sorted. This is because, by default, R chooses the control condition based on alphabetical order. For example, if you have three conditions: _controlTreatment_, _badTreatment_, _worseTreatment_, it will assume that the control condition is _badTreatment_ because it is first alphabetically.   \n",
    "\n",
    "\n",
    "* That the adjusted p value FDR cutoff (**`alpha`**) you want to use is 0.05.   \n",
    "\n",
    "\n",
    "To define the control condition and FDR cutoff in DEAGO see [Identifying DE genes](Identifying-DE-genes.ipynb) or for more information on what these mean, go to the [DESeq2 vignette](https://bioconductor.org/packages/release/bioc/vignettes/DESeq2/inst/doc/DESeq2.html)."
   ]
  },
  {
   "cell_type": "markdown",
   "metadata": {},
   "source": [
    "### Results\n",
    "\n",
    "All being well, the DEAGO should generate an analysis report: **`deago_markdown.html`**.  If not, you will need to look into any errors or warnings in the log file (**`deago.rlog`**) or try running the commands from the R markdown file (**`deago_markdown.Rmd`**) in R to debug the issue.\n",
    "\n",
    "In your results directory, you should also see, in addition to the DE analysis results files mentioned in [Identifying DE genes](Identifying-DE-genes.ipynb), a series of GO analysis results files. These contain the results for the **top 30** significantly enriched GO terms from each analysis. For more information on the GO results file names and their contents see [Output files](Output-files.ipynb).\n"
   ]
  },
  {
   "cell_type": "markdown",
   "metadata": {},
   "source": [
    "***"
   ]
  },
  {
   "cell_type": "markdown",
   "metadata": {},
   "source": [
    "## Including gene symbols\n",
    "\n",
    "By default, DEAGO includes the gene identifiers from the counts file associated with each GO term in the GO analysis results tables. However, it can sometimes be more useful to see the gene names which may be much more recognisable. To do this, we need a gene symbol column in the annotation file (see [Input files](Input-files.ipynb) and [Preparing an annotation file](Preparing-an-annotation-file.ipynb)).\n",
    "\n",
    "For more information on the differences you'll see in your output when you include annotations see [Output files](Output-files.ipynb).\n",
    "  \n",
    "[Return to the index](index.ipynb)  \n",
    "Previous: [Identifying DE genes](Identifying-DE-genes.ipynb)  \n",
    "Next: [Bespoke analyses](Bespoke-analyses.ipynb)"
   ]
  }
 ],
 "metadata": {
  "anaconda-cloud": {},
  "kernelspec": {
   "display_name": "Bash",
   "language": "bash",
   "name": "bash"
  },
  "language_info": {
   "codemirror_mode": "shell",
   "file_extension": ".sh",
   "mimetype": "text/x-sh",
   "name": "bash"
  }
 },
 "nbformat": 4,
 "nbformat_minor": 1
}
