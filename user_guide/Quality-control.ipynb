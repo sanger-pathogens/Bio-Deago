{
 "cells": [
  {
   "cell_type": "markdown",
   "metadata": {},
   "source": [
    "# Quality control (QC)"
   ]
  },
  {
   "cell_type": "markdown",
   "metadata": {},
   "source": [
    "Before you run your differential expression analysis, it's a good idea to first check the quality of your data. This will give you an idea of whether there are any outliers you want to remove or batch effects you need to account for.\n",
    "\n",
    "Remember, each DEAGO analysis should be self-contained (i.e. in a new folder):"
   ]
  },
  {
   "cell_type": "code",
   "execution_count": null,
   "metadata": {
    "collapsed": false
   },
   "outputs": [],
   "source": [
    "    mkdir qc && cd qc"
   ]
  },
  {
   "cell_type": "markdown",
   "metadata": {},
   "source": [
    "***"
   ]
  },
  {
   "cell_type": "markdown",
   "metadata": {},
   "source": [
    "## Running a default QC analysis\n",
    "\n",
    "To run DEAGO in **QC** mode: "
   ]
  },
  {
   "cell_type": "code",
   "execution_count": null,
   "metadata": {
    "collapsed": false
   },
   "outputs": [],
   "source": [
    "    deago --build_config -c ../data/counts \\\n",
    "                         -t ../data/targets.txt \\\n",
    "                         --qc"
   ]
  },
  {
   "cell_type": "markdown",
   "metadata": {},
   "source": [
    "A summary of the options used and what they mean:\n",
    "\n",
    "* **`-c`** tells DEAGO the location (relative or absolute) of the folder containing your count files\n",
    "\n",
    "\n",
    "* **`-t`** tells DEAGO the location (relative or absolute) of the sample/condition mapping file\n",
    "\n",
    "\n",
    "* **`--qc`** tells DEAGO to only run the QC analysis\n",
    "\n",
    "This assumes that you are using the expression count format which is the output of the Sanger pathogen pipelines (see [Input files](Input-files.ipynb))."
   ]
  },
  {
   "cell_type": "markdown",
   "metadata": {},
   "source": [
    "### Results\n",
    "\n",
    "All being well, the DEAGO should generate an analysis report: **`deago_markdown.html`**.  If not, you will need to look into any errors or warnings in the log file (**`deago.rlog`**) or try running the commands from the R markdown file (**`deago_markdown.Rmd`**) in R to debug the issue.\n",
    "\n",
    "For more information on the output files and what they contain see [Output files](Output-files.ipynb)."
   ]
  },
  {
   "cell_type": "markdown",
   "metadata": {},
   "source": [
    "***"
   ]
  },
  {
   "cell_type": "markdown",
   "metadata": {},
   "source": [
    "## Running a QC analysis with featureCounts files\n",
    "\n",
    "To run DEAGO in **QC** mode with **featureCounts** files: "
   ]
  },
  {
   "cell_type": "code",
   "execution_count": null,
   "metadata": {
    "collapsed": true
   },
   "outputs": [],
   "source": [
    "    deago --build_config -c ../data/counts \\\n",
    "                         -t ../data/targets.txt \\\n",
    "                         --count_type featurecounts \\\n",
    "                         --qc"
   ]
  },
  {
   "cell_type": "markdown",
   "metadata": {},
   "source": [
    "A summary of the options used and what they mean:\n",
    "\n",
    "* **`-c`** tells DEAGO the location (relative or absolute) of the folder containing your count files\n",
    "\n",
    "\n",
    "* **`-t`** tells DEAGO the location (relative or absolute) of the sample/condition mapping file\n",
    "\n",
    "\n",
    "* **`--count_type`** tells DEAGO the format of the count data (e.g. featurecounts) setting the values for **`--count_column`**, **`--skip_lines`**, **`--gene_ids`**, **`--count_delim`**\n",
    "\n",
    "\n",
    "\n",
    "* **`--qc`** tells DEAGO to only run the QC analysis"
   ]
  },
  {
   "cell_type": "markdown",
   "metadata": {},
   "source": [
    "***"
   ]
  },
  {
   "cell_type": "markdown",
   "metadata": {},
   "source": [
    "## Getting presentation quality QC plots\n",
    "\n",
    "The QC plots that are generated are small and embedded in the QC report so that it is easy to share. However, this means they aren't ideal for presentations, posters or publications.  \n",
    "\n",
    "To get better quality images:"
   ]
  },
  {
   "cell_type": "code",
   "execution_count": null,
   "metadata": {
    "collapsed": true
   },
   "outputs": [],
   "source": [
    "    deago --build_config -c ../data/counts \\\n",
    "                         -t ../data/targets.txt \\\n",
    "                         --qc \\\n",
    "                         --keep_images"
   ]
  },
  {
   "cell_type": "markdown",
   "metadata": {},
   "source": [
    "Using the **`--keep_images`** option in the analysis creates an images folder in your results directory that contains larger, better quality versions of all of the plots generated as part of the analysis.\n",
    "\n",
    "For more information on the output files and what they contain see [Output files](Output-files.ipynb).\n",
    "\n",
    "[Return to the index](index.ipynb)  \n",
    "Previous: [Preparing an annotation file](Preparing-an-annotation-file.ipynb)  \n",
    "Next: [Identifying DE genes](Identifying-DE-genes.ipynb)"
   ]
  }
 ],
 "metadata": {
  "anaconda-cloud": {},
  "kernelspec": {
   "display_name": "Bash",
   "language": "bash",
   "name": "bash"
  },
  "language_info": {
   "codemirror_mode": "shell",
   "file_extension": ".sh",
   "mimetype": "text/x-sh",
   "name": "bash"
  }
 },
 "nbformat": 4,
 "nbformat_minor": 1
}
