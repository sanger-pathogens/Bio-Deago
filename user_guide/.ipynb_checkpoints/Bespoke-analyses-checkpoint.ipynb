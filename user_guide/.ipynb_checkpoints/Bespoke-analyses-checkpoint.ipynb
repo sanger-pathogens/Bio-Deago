{
 "cells": [
  {
   "cell_type": "markdown",
   "metadata": {},
   "source": [
    "# Bespoke analyses"
   ]
  },
  {
   "cell_type": "markdown",
   "metadata": {},
   "source": [
    "Sometimes you may not want to run the DEAGO pipeline in one go.  DEAGO can be broken down into four component scripts:\n",
    "\n",
    "| Command                      | Description                                                                |\n",
    "| :--------------------------- | :------------------------------------------------------------------------- |\n",
    "| **`mart_to_deago`**          | convert delimited annotation for use with DEAGO                            |\n",
    "| **`build_deago_config`**     | build the DEAGO configuration key/value pairs from command line parameters |\n",
    "| **`build_deago_markdown`**   | builds markdown from templates but doesn't run the analysis                |\n",
    "| **`deago_markdown_to_html`** | converts R markdown into HTML report                                       |\n",
    "\n",
    "The functionality of all of these scripts is incorporated into the runner script: **`deago`**.\n",
    "\n",
    "The main reason to run the component scripts is when you want to deviate from the standard DEAGO analysis. For example, if you have a two factor analysis where you need to edit the markdown. The examples were designed for the [DEAGO tutorial](https://github.com/vaofford/pathogen-informatics-training/blob/master/Notebooks/DEAGO/index.ipynb) dataset. \n",
    "\n",
    "Remember to create a new directory for each analysis:"
   ]
  },
  {
   "cell_type": "code",
   "execution_count": null,
   "metadata": {
    "collapsed": false
   },
   "outputs": [],
   "source": [
    "    mkdir lrt_analysis && cd lrt_analysis"
   ]
  },
  {
   "cell_type": "markdown",
   "metadata": {},
   "source": [
    "***"
   ]
  },
  {
   "cell_type": "markdown",
   "metadata": {},
   "source": [
    "## Converting an annotation\n",
    "\n",
    "Please see [Preparing an annotation file](Preparing-an-annotation-file.ipynb) for more information on annotation file formats and conversions."
   ]
  },
  {
   "cell_type": "markdown",
   "metadata": {},
   "source": [
    "## Building a configuration file\n",
    "\n",
    "If you want to run an analysis with a bespoke markdown file, you must first build a configuration file (see [Input files](Input-files.ipynb)). DEAGO uses this configuration file to set the analysis parameters (e.g. FDR cutoff) and to determine which templates need to be included (e.g. GO analysis)."
   ]
  },
  {
   "cell_type": "code",
   "execution_count": null,
   "metadata": {
    "collapsed": false
   },
   "outputs": [],
   "source": [
    "build_deago_config -c ../data/counts \\\n",
    "                   -t ../data/targets.txt \\\n",
    "                   -a ../data/ensembl_mm10_deago_formatted.tsv \\\n",
    "                   --count_type featurecounts \\\n",
    "                   -q 10E-12"
   ]
  },
  {
   "cell_type": "markdown",
   "metadata": {},
   "source": [
    "This command will build a new configuration file using the command line parameters called [**`deago.config`**](lrt_analysis/deago.config) which looks like:"
   ]
  },
  {
   "cell_type": "markdown",
   "metadata": {},
   "source": [
    "    annotation_file\t/lustre/scratch118/infgen/pathdev/vo1/data/ensembl_mm10_deago_formatted.tsv\n",
    "    count_column\t7\n",
    "    count_delim\t\\t\n",
    "    count_type\tfeaturecounts\n",
    "    counts_directory\t/lustre/scratch118/infgen/pathdev/vo1/data/counts\n",
    "    gene_ids\tGeneid\n",
    "    go_analysis\t0\n",
    "    go_levels\tall\n",
    "    keep_images\t0\n",
    "    qc_only\t0\n",
    "    qvalue\t10E-12\n",
    "    results_directory\t/lustre/scratch118/infgen/pathdev/vo1/data/lrt_analysis\n",
    "    skip_lines\t1\n",
    "    targets_file\t/lustre/scratch118/infgen/pathdev/vo1/data/targets.txt"
   ]
  },
  {
   "cell_type": "markdown",
   "metadata": {},
   "source": [
    "***"
   ]
  },
  {
   "cell_type": "markdown",
   "metadata": {},
   "source": [
    "## Build R markdown from templates\n",
    "\n",
    "The next step in a bespoke analysis is to generate an R markdown file for the standard analysis which can then be edited.  It will take the configuration file that you generated earlier and use the values to define the analysis. "
   ]
  },
  {
   "cell_type": "code",
   "execution_count": null,
   "metadata": {
    "collapsed": false
   },
   "outputs": [],
   "source": [
    "    build_deago_markdown -c deago.config"
   ]
  },
  {
   "cell_type": "markdown",
   "metadata": {},
   "source": [
    "This command gives you your R markdown file [**`deago_markdown.Rmd`**](lrt_analysis/deago_markdown.Rmd), but does not run the analysis."
   ]
  },
  {
   "cell_type": "markdown",
   "metadata": {},
   "source": [
    "***"
   ]
  },
  {
   "cell_type": "markdown",
   "metadata": {},
   "source": [
    "## Editing your markdown\n",
    "\n",
    "Now you have a markdown file to work with, you can edit the file to run exactly the type of analysis you want.  For example, let's adapt our study design so that it accounts for both cell type and treatment and run a likelihood ratio test (LRT) (see the [DESeq2 vignette](https://bioconductor.org/packages/release/bioc/vignettes/DESeq2/inst/doc/DESeq2.html) for more information on study design and hypothesis testing).\n",
    "\n",
    "You can use a command line editor (e.g. `nano`) to edit the markdown file:"
   ]
  },
  {
   "cell_type": "code",
   "execution_count": null,
   "metadata": {
    "collapsed": true
   },
   "outputs": [],
   "source": [
    "    nano deago_markdown.Rmd"
   ]
  },
  {
   "cell_type": "markdown",
   "metadata": {},
   "source": [
    "First load the DESeq2 library in your markdown (around line 29) as you will be using functions from the package."
   ]
  },
  {
   "cell_type": "markdown",
   "metadata": {},
   "source": [
    "    library(DESeq2)"
   ]
  },
  {
   "cell_type": "markdown",
   "metadata": {},
   "source": [
    "Now let's edit the study design (this will be around line 60) replacing:"
   ]
  },
  {
   "cell_type": "markdown",
   "metadata": {},
   "source": [
    "    dds <- runDESeqAnalysis(targets, countdata, parameters)"
   ]
  },
  {
   "cell_type": "markdown",
   "metadata": {},
   "source": [
    "With the following code:"
   ]
  },
  {
   "cell_type": "markdown",
   "metadata": {},
   "source": [
    "    coldata <- DataFrame( cell_type=factor( tolower(targets$cell_type) ),\n",
    "                          treatment=factor( tolower(targets$treatment) ),\n",
    "                          condition=factor( tolower(targets$condition) ) )\n",
    "\n",
    "    dds <- DESeqDataSetFromMatrix(countData=countdata, colData=coldata, \n",
    "                                  design=~cell_type+treatment+cell_type:treatment)\n",
    "\n",
    "    dds$cell_type <- relevel(dds$cell_type, ref = \"ko\")\n",
    "    dds$treatment <- relevel(dds$treatment, ref = \"ctrl\")\n",
    "\n",
    "    dds <- DESeq(dds, test=\"LRT\", reduced=~cell_type+treatment)\n",
    "    dds <- annotateDataset(dds, parameters)"
   ]
  },
  {
   "cell_type": "markdown",
   "metadata": {},
   "source": [
    "We can now remove the existing contrast tests, leaving the R session at the end of the analysis and then modify the contrasts to reflect our LRT results:"
   ]
  },
  {
   "cell_type": "markdown",
   "metadata": {},
   "source": [
    "    lrt_results <- results(dds, alpha=as.numeric(parameters$qvalue))\n",
    "    lrt_results$symbol <- mcols(dds)$symbol\n",
    "\n",
    "    contrasts <- list('lrt'=lrt_results)"
   ]
  },
  {
   "cell_type": "markdown",
   "metadata": {},
   "source": [
    "Finally, replace all occurences of the contrast name **`ko_il22_vs_ko_ctrl`** with **`lrt`**.\n",
    "\n",
    "Take a look at the [configuration file](lrt_example/deago.config), [modified R markdown file](lrt_example/deago_markdown.Rmd) and [HTML report](lrt_example/deago_markdown.html) that were generated or see the full inputs and results [here](lrt_example)."
   ]
  },
  {
   "cell_type": "markdown",
   "metadata": {},
   "source": [
    "***"
   ]
  },
  {
   "cell_type": "markdown",
   "metadata": {},
   "source": [
    "## Converting markdown to HTML\n",
    "\n",
    "Now you just need to convert your modified markdown into a HTML report."
   ]
  },
  {
   "cell_type": "code",
   "execution_count": 6,
   "metadata": {
    "collapsed": false
   },
   "outputs": [
    {
     "name": "stdout",
     "output_type": "stream",
     "text": []
    }
   ],
   "source": [
    "    deago_markdown_to_html -i deago_markdown.Rmd"
   ]
  },
  {
   "cell_type": "markdown",
   "metadata": {},
   "source": [
    "This should give you your HTML analysis report: [**`deago_markdown.html`**](lrt_analysis/deago_markdown.html).\n",
    "\n",
    "[Return to the index](index.ipynb)  \n",
    "Previous: [GO term enrichment](GO-term-enrichment.ipynb)  "
   ]
  }
 ],
 "metadata": {
  "anaconda-cloud": {},
  "kernelspec": {
   "display_name": "Bash",
   "language": "bash",
   "name": "bash"
  },
  "language_info": {
   "codemirror_mode": "shell",
   "file_extension": ".sh",
   "mimetype": "text/x-sh",
   "name": "bash"
  }
 },
 "nbformat": 4,
 "nbformat_minor": 1
}
