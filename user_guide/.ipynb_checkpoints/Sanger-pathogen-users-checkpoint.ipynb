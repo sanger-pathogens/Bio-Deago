{
 "cells": [
  {
   "cell_type": "markdown",
   "metadata": {},
   "source": [
    "# Sanger pathogen users"
   ]
  },
  {
   "cell_type": "markdown",
   "metadata": {},
   "source": [
    "**This section is for Sanger users who are wanting to prepare their input data from the pathogens RNA-Seq Expression Pipeline.**\n",
    "\n",
    "In this section, we'll go through how you could generate the files we use in the [DEAGO tutorial](https://github.com/vaofford/pathogen-informatics-training/blob/master/Notebooks/DEAGO/index.ipynb) using the output from the Sanger pathogen pipelines.\n",
    "\n",
    "_You will need to be logged in to either `pcs5` or the `farm` to run the commands in this section._"
   ]
  },
  {
   "cell_type": "markdown",
   "metadata": {},
   "source": [
    "## Requesting the RNA-Seq Expression Pipeline for your data\n",
    "\n",
    "For an overview of the RNA-Seq Expression Pipeline and for details on requesting this pipeline for your data, please see the [Pathogen Informatics wiki](http://mediawiki.internal.sanger.ac.uk/index.php/Pathogen_Informatics_RNA-Seq_Expression_Pipeline). If you need help with this or have questions, please email [path-help@sanger.ac.uk](path-help@sanger.ac.uk)."
   ]
  },
  {
   "cell_type": "markdown",
   "metadata": {},
   "source": [
    "***"
   ]
  },
  {
   "cell_type": "markdown",
   "metadata": {},
   "source": [
    "## Pipeline status \n",
    "\n",
    "Once you have requested the RNA-Seq Expression Pipeline, check your samples have finished going through the pipeline using **`pf status`**.  The command to check the pipeline status of our [tutorial](https://github.com/vaofford/pathogen-informatics-training/blob/master/Notebooks/DEAGO/index.ipynb) pipeline data would be:"
   ]
  },
  {
   "cell_type": "code",
   "execution_count": null,
   "metadata": {
    "collapsed": false
   },
   "outputs": [],
   "source": [
    "    pf status -t study -i 2319"
   ]
  },
  {
   "cell_type": "markdown",
   "metadata": {},
   "source": [
    "This should give you the status of the 32 lanes in this study within all of the pathogens pipelines.\n",
    "\n",
    "| Name     | Import | QC    | Mapping | Archive | Improve | SNP call | RNASeq | Assemble | Annotate |\n",
    "| :------- | :----: | :---: | :-----: | :-----: | :-----: | :------: | :----: | :------: | :------: | \n",
    "| 8380_3#1 | Done   | Done  | Done    | Done    | -       | Done     | Done   | Done     | -        |\n",
    "| 8380_3#2 | Done   | Done  | Done    | Done    | -       | Done     | Done   | Done     | -        |\n",
    "| 8380_3#4 | Done   | Done  | Done    | -       | -       | Done     | Done   | Done     | -        |\n",
    "| 8380_3#5 | Done   | Done  | Done    | Done    | -       | Done     | Done   | Done     | -        |\n",
    "| ...      | ...    | ...   | ...     | ...     | ...     | ...      | ...    | ...      | ...      |"
   ]
  },
  {
   "cell_type": "markdown",
   "metadata": {},
   "source": [
    "***"
   ]
  },
  {
   "cell_type": "markdown",
   "metadata": {},
   "source": [
    "## Count data\n",
    "\n",
    "We can use **`pf rnaseq`** to find the count files which are the output from the RNASeq Expression Pipeline."
   ]
  },
  {
   "cell_type": "code",
   "execution_count": null,
   "metadata": {
    "collapsed": true
   },
   "outputs": [],
   "source": [
    "    pf rnaseq -t study -i 2319"
   ]
  },
  {
   "cell_type": "markdown",
   "metadata": {},
   "source": [
    "This will give you the location of the 32 expression count files."
   ]
  },
  {
   "cell_type": "markdown",
   "metadata": {},
   "source": [
    "    /lustre/scratch118/infgen/pathogen/pathpipe/prokaryotes/seq-pipelines/Mus/musculus/TRACKING/2319/WT2xCtrl_1\n",
    "    /SLX/WT2xCtrl_1_5733492/8380_3#1/390176.pe.markdup.bam.expression.csv\n",
    "    \n",
    "    /lustre/scratch118/infgen/pathogen/pathpipe/prokaryotes/seq-pipelines/Mus/musculus/TRACKING/2319/WT2xCtrl_2\n",
    "    /SLX/WT2xCtrl_2_5733493/8380_3#2/390269.pe.markdup.bam.expression.csv\n",
    "    \n",
    "    /lustre/scratch118/infgen/pathogen/pathpipe/prokaryotes/seq-pipelines/Mus/musculus/TRACKING/2319/WT2xIL22_2\n",
    "    /SLX/WT2xIL22_2_5733495/8380_3#4/389017.pe.markdup.bam.expression.csv\n",
    "    ..."
   ]
  },
  {
   "cell_type": "markdown",
   "metadata": {},
   "source": [
    "Expression counts files are available for all organisms. For human and mouse, there are also **featurecounts** files which have been generated using [featureCounts](http://bioinf.wehi.edu.au/featureCounts/). To access these instead we can use the **`-f`** option to find a particular filetype."
   ]
  },
  {
   "cell_type": "code",
   "execution_count": null,
   "metadata": {
    "collapsed": true
   },
   "outputs": [],
   "source": [
    "    pf rnaseq -t study -i 2319 -f featurecounts"
   ]
  },
  {
   "cell_type": "markdown",
   "metadata": {},
   "source": [
    "For DEAGO, you will need to have your count files in a single directory. It isn't efficient to copy the data from the pipelines to your working directory. Instead you should create a shortcut or reference to these files called a symlink."
   ]
  },
  {
   "cell_type": "code",
   "execution_count": null,
   "metadata": {
    "collapsed": true
   },
   "outputs": [],
   "source": [
    "   mkdir counts\n",
    "   pf rnaseq -t study -i 2319 -f featurecounts -l ./counts"
   ]
  },
  {
   "cell_type": "markdown",
   "metadata": {},
   "source": [
    "Take a look in the counts directory:"
   ]
  },
  {
   "cell_type": "code",
   "execution_count": null,
   "metadata": {
    "collapsed": true
   },
   "outputs": [],
   "source": [
    "    ls counts"
   ]
  },
  {
   "cell_type": "markdown",
   "metadata": {},
   "source": [
    "And you should see:"
   ]
  },
  {
   "cell_type": "markdown",
   "metadata": {},
   "source": [
    "    8380_3#1.390176.pe.markdup.bam.featurecounts.csv   8380_5#12.389308.pe.markdup.bam.featurecounts.csv \n",
    "    8380_8#11.390155.pe.markdup.bam.featurecounts.csv  8380_3#2.390269.pe.markdup.bam.featurecounts.csv  \n",
    "    8380_6#1.390254.pe.markdup.bam.featurecounts.csv   8380_8#12.390242.pe.markdup.bam.featurecounts.csv\n",
    "    ..."
   ]
  },
  {
   "cell_type": "markdown",
   "metadata": {},
   "source": [
    "While it might look like your files are in the counts directory, what the `-l` option has done is create a series of symlinks which point the locations of the counts files within the pipelines. You can use **`ls -al`** to see what we mean."
   ]
  },
  {
   "cell_type": "markdown",
   "metadata": {},
   "source": [
    "    drwxr-xr-x  2 vo1 pathdev 4096 Mar 22 15:52 .\n",
    "    drwxr-xr-x 15 vo1 pathdev 4096 Mar 22 15:52 ..\n",
    "    lrwxrwxrwx  1 vo1 pathdev  179 Mar 22 15:52 8380_3#1.390176.pe.markdup.bam.featurecounts.csv -> /lustre/scratch118\n",
    "    /infgen/pathogen/pathpipe/prokaryotes/seq-pipelines/Mus/musculus/TRACKING/2319/WT2xCtrl_1/SLX/WT2xCtrl_1_5733492\n",
    "    /8380_3#1/390176.pe.markdup.bam.featurecounts.csv\n",
    "    lrwxrwxrwx  1 vo1 pathdev  179 Mar 22 15:52 8380_3#2.390269.pe.markdup.bam.featurecounts.csv -> /lustre/scratch118\n",
    "    /infgen/pathogen/pathpipe/prokaryotes/seq-pipelines/Mus/musculus/TRACKING/2319/WT2xCtrl_2/SLX/WT2xCtrl_2_5733493\n",
    "    /8380_3#2/390269.pe.markdup.bam.featurecounts.csv\n",
    "    lrwxrwxrwx  1 vo1 pathdev  179 Mar 22 15:52 8380_3#4.389017.pe.markdup.bam.featurecounts.csv -> /lustre/scratch118\n",
    "    /infgen/pathogen/pathpipe/prokaryotes/seq-pipelines/Mus/musculus/TRACKING/2319/WT2xIL22_2/SLX/WT2xIL22_2_5733495\n",
    "    /8380_3#4/389017.pe.markdup.bam.featurecounts.csv \n",
    "    ..."
   ]
  },
  {
   "cell_type": "markdown",
   "metadata": {},
   "source": [
    "***"
   ]
  },
  {
   "cell_type": "markdown",
   "metadata": {},
   "source": [
    "## Sample/condition mapping\n",
    "\n",
    "DEAGO also needs a targets file which maps the sample files to the experimental conditions that were applied.\n",
    "\n",
    "DEAGO expects to see these three columns in this file:\n",
    "\n",
    "* **`filename`** - name of the sample count file in the counts directory\n",
    "\n",
    "* **`condition`** - experimental condition that was applied\n",
    "\n",
    "* **`replicate`** - number or phrase representing a replicate group\n",
    "\n",
    "You can get your filenames by using **`ls`** to list the files in your counts directory.  \n",
    "\n",
    "You may be able to use **`pf info`** to get information on the experimental conditions and replicate numbers.\n"
   ]
  },
  {
   "cell_type": "code",
   "execution_count": null,
   "metadata": {
    "collapsed": true
   },
   "outputs": [],
   "source": [
    "    pf info -t study -i 2319"
   ]
  },
  {
   "cell_type": "markdown",
   "metadata": {},
   "source": [
    "Here we can see that the **Sample** column might be able to help us:\n",
    "\n",
    "| Lane      | Sample     | Supplier Name | Public Name | Strain  |\n",
    "| :-------- | :--------: | :-----------: | :---------: | :-----: |\n",
    "| 8380_3#1  | WT2xCtrl_1 | NA            | WT2xCtrl_1  | C57BL/6 |\n",
    "| 8380_3#2  | WT2xCtrl_2 | NA            | WT2xCtrl_2  | C57BL/6 |\n",
    "| ...       | ...        | ...           | ...         | ...     |\n",
    "| 8380_6#3  | KO1xIL22_1 | NA            | KO1xIL22_1  | C57BL/6 |\n",
    "| 8380_6#4  | KO1xIL22_2 | NA            | KO1xIL22_2  | C57BL/6 |\n",
    "| ...       | ...        | ...           | ...         | ...     |\n",
    "| 8380_7#9  | KO3xCtrl_1 | NA            | KO3xCtrl_1  | C57BL/6 |\n",
    "| ...       | ...        | ...           | ...         | ...     |\n",
    "| 8380_8#15 | KO4xIL22_1 | NA            | KO4xIL22_1  | C57BL/6 |\n",
    "\n",
    "From this we can see that there are:\n",
    "\n",
    "* 2 cell types: WT and KO\n",
    "* 2 treatments: Ctrl and IL22\n",
    "* 4 biological replicates (e.g. KO4)\n",
    "* 2 technical replicates (e.g. _1 and _2)\n",
    "\n",
    "So, for lanes 8380_3#1 and 8380_3#2 the targets file would need:"
   ]
  },
  {
   "cell_type": "markdown",
   "metadata": {},
   "source": [
    "    condition\tcell_type\ttreatment\treplicate\tfilename\n",
    "    WT_Ctrl\tWT\tCtrl\t2.1\t8380_3#1.390176.pe.markdup.bam.featurecounts.csv\n",
    "    WT_Ctrl\tWT\tCtrl\t2.2\t8380_3#2.390269.pe.markdup.bam.featurecounts.csv"
   ]
  },
  {
   "cell_type": "markdown",
   "metadata": {
    "collapsed": true
   },
   "source": [
    "DEAGO expects a **condition** column. We have two conditions here, _cell type_ and _treatment_, but DEAGO can only perform single-factor analysese. So we must join these together for the condition e.g. WT_Ctrl. We also only have one replicate column so we join the biological and technical replicates e.g. 2.1.  \n",
    "\n",
    "DEAGO will ignore extra columns in your targets file so you can have other descriptive columns like cell_type and treatment."
   ]
  },
  {
   "cell_type": "markdown",
   "metadata": {},
   "source": [
    "***"
   ]
  },
  {
   "cell_type": "markdown",
   "metadata": {},
   "source": [
    "## Annotations\n",
    "\n",
    "To prepare an annotation file, it's often useful to know what reference was used to map your reads.  The **`--details`** option in **`pf rnaseq`** will give you this information."
   ]
  },
  {
   "cell_type": "code",
   "execution_count": null,
   "metadata": {
    "collapsed": true
   },
   "outputs": [],
   "source": [
    "    pf rnaseq -t lane -i 8380_3#1 --details"
   ]
  },
  {
   "cell_type": "markdown",
   "metadata": {},
   "source": [
    "Here we can see that Mus_musculus_mm10 was used as the reference when mapping this lane with BWA."
   ]
  },
  {
   "cell_type": "markdown",
   "metadata": {},
   "source": [
    "    /lustre/scratch118/infgen/pathogen/pathpipe/prokaryotes/seq-pipelines/Mus/musculus/TRACKING/2319/WT2xCtrl_1/SLX/WT2xCtrl_1_5733492/8380_3#1/390176.pe.markdup.bam.expression.csv  Mus_musculus_mm10\tbwa\t2012-12-05T10:36:36"
   ]
  },
  {
   "cell_type": "markdown",
   "metadata": {},
   "source": [
    "For organisms where gene symbol and GO terms are available in Ensembl, you can use BioMart to gather your annotation. For other organisms, you may need to mine other databases or sources. The annotation will need to be formatted for use with DEAGO. See [Preparing an annotation file](Preparing-an-annotation-file.ipynb) for more information.\n",
    "  \n",
    "[Return to the index](index.ipynb)"
   ]
  }
 ],
 "metadata": {
  "anaconda-cloud": {},
  "kernelspec": {
   "display_name": "Bash",
   "language": "bash",
   "name": "bash"
  },
  "language_info": {
   "codemirror_mode": "shell",
   "file_extension": ".sh",
   "mimetype": "text/x-sh",
   "name": "bash"
  }
 },
 "nbformat": 4,
 "nbformat_minor": 1
}
