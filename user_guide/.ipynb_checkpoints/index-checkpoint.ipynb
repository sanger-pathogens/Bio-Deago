{
 "cells": [
  {
   "cell_type": "markdown",
   "metadata": {},
   "source": [
    "# DEAGO\n",
    "\n",
    "## Introduction\n",
    "DEAGO generates user-friendly quality control (QC) and analysis reports for RNA-Seq datasets. These interactive reports can be opened simply in a web browser and provide a simple way of sharing information about your analysis with collaborators. \n",
    "\n",
    "DEAGO uses a Perl wrapper module (**[Bio-Deago](https://github.com/sanger-pathogens/Bio-Deago)**) to generate a HTML report from markdown templates by calling functions from an R package (**[deago](https://github.com/sanger-pathogens/deago)**). \n",
    "\n",
    "There are three main steps to each analysis:\n",
    "\n",
    "* Generating QC plots (**[ggplot2](http://ggplot2.org/)**)\n",
    "* Identifying differentially expressed (DE) genes (**[DESeq2](https://bioconductor.org/packages/release/bioc/html/DESeq2.html)**) \n",
    "* Performing gene ontology (GO) term enrichment analyses (**[topGO](http://bioconductor.org/packages/release/bioc/html/topGO.html)**)\n",
    "\n",
    "***\n",
    "\n",
    "## User guide\n",
    "\n",
    "The DEAGO user guide is split into several sections: \n",
    "\n",
    "1. [Input files](Input-files.ipynb)\n",
    "2. [Output files](Output-files.ipynb)\n",
    "3. [Preparing an annotation file](Preparing-an-annotation-file.ipynb)\n",
    "4. [Quality control (QC)](Quality-control.ipynb)\n",
    "5. [Identifying DE genes](Identifying-DE-genes.ipynb)\n",
    "6. [GO term enrichment](GO-term-enrichment.ipynb)\n",
    "7. [Bespoke analyses](Bespoke-analyses.ipynb)\n",
    "\n",
    "***\n",
    "\n",
    "## Tutorial\n",
    "There is a short [DEAGO tutorial](https://github.com/sanger-pathogens/pathogen-informatics-training/blob/master/Notebooks/DEAGO/index.ipynb) which will give you an opportunity to look at example input data, run some DEAGO analyses and look at the output files which are generated.\n",
    "\n",
    "### Learning outcomes\n",
    "\n",
    "By the end of the tutorial you can expect to be able to:\n",
    "\n",
    "* Understand what input files are required for DEAGO and what format they should have\n",
    "* Generate a QC report for the RNA-seq data\n",
    "* Generate a DE report that can be used to identify differentially expressed genes\n",
    "* Generate a GO term enrichment analysis report\n",
    "\n",
    "***\n",
    "\n",
    "## Running the commands in this user guide\n",
    "\n",
    "You can run the commands in this user guide either directly from the Jupyter notebook (if using Jupyter), or by typing the commands in your terminal window. \n",
    "\n",
    "### Running commands on Jupyter\n",
    "If you are using Jupyter, command cells (like the one below) can be run by selecting the cell and clicking _Cell -> Run_ from the menu above or using _ctrl Enter_ to run the command. Let's give this a try by printing our working directory using the _pwd_ command and listing the files within it. Run the commands in the two cells below."
   ]
  },
  {
   "cell_type": "code",
   "execution_count": null,
   "metadata": {
    "collapsed": true
   },
   "outputs": [],
   "source": [
    "pwd"
   ]
  },
  {
   "cell_type": "code",
   "execution_count": null,
   "metadata": {
    "collapsed": true
   },
   "outputs": [],
   "source": [
    "ls -l"
   ]
  },
  {
   "cell_type": "markdown",
   "metadata": {},
   "source": [
    "### Running commands in the terminal\n",
    "You can also follow this guide by typing all the commands you see into a terminal window. This is similar to the \"Command Prompt\" window on MS Windows systems, which allows the user to type DOS commands to manage files.\n",
    "\n",
    "To get started, select the cell below with the mouse and then either press control and enter or choose Cell -> Run in the menu at the top of the page."
   ]
  },
  {
   "cell_type": "code",
   "execution_count": null,
   "metadata": {
    "collapsed": true
   },
   "outputs": [],
   "source": [
    "echo cd $PWD"
   ]
  },
  {
   "cell_type": "markdown",
   "metadata": {},
   "source": [
    "Now open a new terminal on your computer and type the command that was output by the previous cell followed by the enter key. The command will look similar to this:\n",
    "\n",
    "    cd /home/manager/pathogen-informatics-training/Notebooks/DEAGO/\n",
    "    \n",
    "Now you can follow the instructions in the guide from here.\n",
    "\n",
    "## Let’s get started!\n",
    "This user guide assumes that you have [deago](https://github.com/sanger-pathogens/deago) and [Bio-Deago](https://github.com/sanger-pathogens/Bio-Deago) installed on your computer. For download and installation instructions, please see:\n",
    "\n",
    "* [Bio-Deago](https://github.com/sanger-pathogens/Bio-Deago) (Perl module)\n",
    "* [deago](https://github.com/sanger-pathogens/deago) (R package)\n",
    "\n",
    "_Note: For Sanger pathogens users, these are already available on pcs5 and farm3. We also have a separate [Sanger pathogen users](Sanger-pathogen-users.ipynb) page which will walk you through preparing your input data from the Sanger pathogen pipelines._\n",
    "\n",
    "To check that you have installed the software correctly, you can run the following command:"
   ]
  },
  {
   "cell_type": "code",
   "execution_count": null,
   "metadata": {
    "collapsed": true
   },
   "outputs": [],
   "source": [
    "deago -h"
   ]
  },
  {
   "cell_type": "markdown",
   "metadata": {},
   "source": [
    "This should return the following help message:\n",
    "```\n",
    "Usage: deago [options]\n",
    "RNA-Seq differential expression qc and analysis\n",
    "\n",
    "Main options:\n",
    "  --output_directory (-o) output directory [.]\n",
    "  --convert_annotation    convert annotation for use with deago (requires -a)\n",
    "  --annotation_delim      annotation file delimiter [\\t]\n",
    "  --build_config          build configuration file from command line arguments (see configuration options)\n",
    "  --config_file           configuration filename or output filename for configuration file if building [./deago.config]\n",
    "  --markdown_file         output filename for markdown file [./deago_markdown.Rmd]\n",
    "  --html_file             output filename for html file [./deago_markdown.html]\n",
    "  -v                      verbose output to STDOUT\n",
    "  -w                      print version and exit\n",
    "  -h                      print help message and exit\n",
    "\n",
    "Configuration options (required):\n",
    "  -c STR          directory containing count files (absolute path)\n",
    "  -t STR          targets filename (absolute path)\n",
    "\n",
    " Configuration options (optional):\n",
    "  -r STR          results directory [current working directory]\n",
    "  -a STR          annotation filename (absolute path)\n",
    "  -q NUM          qvalue (DESeq2) [0.05]\n",
    "  --control       name of control condition (must be present in targets file)\n",
    "  --keep_images   keep images used in report\n",
    "  --qc            QC only\n",
    "  --go            GO term enrichment\n",
    "  --go_levels     BP only, MF only or all [BP|MF|all]\n",
    "  --count_type    type of count file [expression|featurecounts]\n",
    "  --count_column  number of column containing count values\n",
    "  --skip_lines    number of lines to skip in count file\n",
    "  --count_delim   count file delimiter\n",
    "  --gene_ids      name of column containing gene ids\n",
    "\n",
    "DEAGO takes in a configuration file containing key/value pairs [default: ./deago.config]. You can\n",
    "use your own configuration file with --config_file or specify parameters and let DEAGO build a\n",
    "configuration file with --build_config (and --config_file if you don't want the default\n",
    "configuration filename). For more information on configuration parameters run: build_deago_config -h.\n",
    "\n",
    "DEAGO will then build a master R markdown file (--markdown_file if you don't want the default\n",
    "markdown filename) from templates which utilize the companion DEAGO R package and the key/value\n",
    "pairs set out in the configuration file. The R markdown will be processed and used to generate a\n",
    "HTML report (--html_file if you don't want the default html filename).\n",
    "\n",
    "To use custom gene names and for GO term enrichment (--go) and annotation file must be provided\n",
    "(-a). Annotations downloaded from BioMart or those in a similar format can be converted for use\n",
    "with DEAGO.  For more information run: mart_to_deago -h.\n",
    "```\n",
    "\n",
    "***\n",
    "\n",
    "Next: [Input files](Input-files.ipynb)"
   ]
  }
 ],
 "metadata": {
  "anaconda-cloud": {},
  "kernelspec": {
   "display_name": "Bash",
   "language": "bash",
   "name": "bash"
  },
  "language_info": {
   "codemirror_mode": "shell",
   "file_extension": ".sh",
   "mimetype": "text/x-sh",
   "name": "bash"
  }
 },
 "nbformat": 4,
 "nbformat_minor": 1
}
