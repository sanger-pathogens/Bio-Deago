{
 "cells": [
  {
   "cell_type": "markdown",
   "metadata": {},
   "source": [
    "# Preparing an annotation file"
   ]
  },
  {
   "cell_type": "markdown",
   "metadata": {},
   "source": [
    "For many organisms, we can use Ensembl BioMart to get our gene symbols and GO terms. \n",
    "\n",
    "1. Go to the [Ensembl mouse genome page](http://www.ensembl.org/Mus_musculus/Info/Index)\n",
    "2. Click **`BioMart`** on the top menu\n",
    "3. Select **`Ensembl Genes 91`** as the database (the version number may change with Ensembl updates)\n",
    "4. Select **`Mus musculus genes (GRCm38.p5)`** as the dataset\n",
    "5. Select **`Attributes`** from the left-hand menu\n",
    "6. Click on the **`+`** symbol next to **`GENE:`** and select **`Ensembl Gene ID`** and **`Associated Gene Name`**\n",
    "7. Click on the **`+`** symbol next to **`EXTERNAL:`** and select **`GO Term Accession`**\n",
    "8. Click the **`Results`** button\n",
    "9. Check **`Export all results to`** is set to **`File`** and **`TSV`** and click the **`Go`** button to download the annotations\n",
    "\n",
    "The downloaded file will be called **`mart_export.txt`** which is the same as [*`ensembl_mm10.tsv`*](deago_tutorial/ensembl_mm10.tsv) from the [DEAGO tutorial](https://github.com/vaofford/pathogen-informatics-training/blob/master/Notebooks/DEAGO/index.ipynb). \n",
    "\n",
    "Let's take a look:"
   ]
  },
  {
   "cell_type": "markdown",
   "metadata": {},
   "source": [
    "    Ensembl Gene ID\tAssociated Gene Name\tGO Term Accession\n",
    "    ENSMUSG00000064372\tmt-Tp\t\n",
    "    ENSMUSG00000064371\tmt-Tt\t\n",
    "    ENSMUSG00000064370\tmt-Cytb\tGO:0016020\n",
    "    ENSMUSG00000064370\tmt-Cytb\tGO:0016021\n",
    "    ENSMUSG00000064370\tmt-Cytb\tGO:0046872\n",
    "    ENSMUSG00000064370\tmt-Cytb\tGO:0009055\n",
    "    ..."
   ]
  },
  {
   "cell_type": "markdown",
   "metadata": {},
   "source": [
    "Notice that *ENSMUSG00000064370* has multiple GO terms. Ensembl BioMart output has one entry per line (e.g. one line per gene symbol or GO term). DEAGO expects one line per gene. We can re-format this BioMart annotation for use with DEAGO using **`mart_to_deago`**.\n",
    "\n",
    "To look at the usage information for **`mart_to_deago`**:"
   ]
  },
  {
   "cell_type": "code",
   "execution_count": null,
   "metadata": {
    "collapsed": false
   },
   "outputs": [],
   "source": [
    "    mart_to_deago -h"
   ]
  },
  {
   "cell_type": "markdown",
   "metadata": {},
   "source": [
    "To convert the annotation for use with DEAGO:"
   ]
  },
  {
   "cell_type": "code",
   "execution_count": null,
   "metadata": {
    "collapsed": false
   },
   "outputs": [],
   "source": [
    "    mart_to_deago -a data/ensembl_mm10.tsv"
   ]
  },
  {
   "cell_type": "markdown",
   "metadata": {},
   "source": [
    "This will generate a DEAGO-formatted annotation file called [**`deago_annotation.tsv`**](deago_tutorial/ensembl_mm10_deago_formatted.tsv) which the same as [*`ensembl_mm10_deago_formatted.tsv`*](deago_tutorial/ensembl_mm10_deago_formatted.tsv) from the [DEAGO tutorial](https://github.com/vaofford/pathogen-informatics-training/blob/master/Notebooks/DEAGO/index.ipynb). \n",
    "\n",
    "Let's take a look:"
   ]
  },
  {
   "cell_type": "markdown",
   "metadata": {},
   "source": [
    "    ENSMUSG00000000001\tGnai3\tGO:0000139;GO:0000166;GO:0001664;GO:0003924;GO:0004871;GO:0005515;GO:0005525;...\n",
    "    ENSMUSG00000000003\tPbsn\tGO:0005576;\n",
    "    ENSMUSG00000000028\tCdc45\tGO:0000727;GO:0003682;GO:0003688;GO:0003697;GO:0005634;GO:0005656;GO:0005813;...\n",
    "    ...\n",
    "    ENSMUSG00000115848\tAC114008.2\n",
    "    ENSMUSG00000115849\tAC156016.5\n",
    "    ENSMUSG00000115850\tAC118639.2"
   ]
  },
  {
   "cell_type": "markdown",
   "metadata": {},
   "source": [
    "Let's search the converted annotation for the gene identifier from earlier (*ENSMUSG00000064370*) that was split across multiple lines : "
   ]
  },
  {
   "cell_type": "code",
   "execution_count": null,
   "metadata": {
    "collapsed": false
   },
   "outputs": [],
   "source": [
    "    grep ENSMUSG00000064370 data/ensembl_mm10_deago_formatted.tsv"
   ]
  },
  {
   "cell_type": "markdown",
   "metadata": {},
   "source": [
    "We can see that there is one gene name (mt-Cytb) and 36 GO terms associated with this gene: "
   ]
  },
  {
   "cell_type": "markdown",
   "metadata": {},
   "source": [
    "    ENSMUSG00000064370\tmt-Cytb\tGO:0001666;GO:0005739;GO:0005743;GO:0006122;GO:0007584;...\n",
    "    \n",
    "    \n",
    "    \n",
    "[Return to the index](index.ipynb)  \n",
    "Previous: [Output files](Output-files.ipynb)  \n",
    "Next: [Quality control](Quality-control.ipynb)"
   ]
  }
 ],
 "metadata": {
  "anaconda-cloud": {},
  "kernelspec": {
   "display_name": "Bash",
   "language": "bash",
   "name": "bash"
  },
  "language_info": {
   "codemirror_mode": "shell",
   "file_extension": ".sh",
   "mimetype": "text/x-sh",
   "name": "bash"
  }
 },
 "nbformat": 4,
 "nbformat_minor": 1
}
